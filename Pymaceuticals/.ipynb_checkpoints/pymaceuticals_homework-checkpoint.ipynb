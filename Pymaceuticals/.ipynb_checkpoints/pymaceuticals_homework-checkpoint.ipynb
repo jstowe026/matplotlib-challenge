{
 "cells": [
  {
   "cell_type": "markdown",
   "metadata": {},
   "source": [
    "## Observations and Insights"
   ]
  },
  {
   "cell_type": "markdown",
   "metadata": {},
   "source": []
  },
  {
   "cell_type": "markdown",
   "metadata": {},
   "source": [
    "## Dependencies and starter code"
   ]
  },
  {
   "cell_type": "code",
   "execution_count": 1,
   "metadata": {},
   "outputs": [],
   "source": [
    "# Dependencies and Setup\n",
    "import matplotlib.pyplot as plt\n",
    "import pandas as pd\n",
    "import scipy.stats as st\n",
    "from scipy.stats import linregress\n",
    "\n",
    "# Study data files\n",
    "mouse_metadata = \"data/Mouse_metadata.csv\"\n",
    "study_results = \"data/Study_results.csv\"\n",
    "\n",
    "# Read the mouse data and the study results\n",
    "mouse_metadata = pd.read_csv(mouse_metadata)\n",
    "study_results = pd.read_csv(study_results)\n",
    "\n",
    "# Combine the data into a single dataset\n",
    "study_data = pd.merge(study_results, mouse_metadata, how=\"left\", on=[\"Mouse ID\", \"Mouse ID\"])\n",
    "\n",
    "#rename tumor volume and weight columns\n",
    "study_data = study_data.rename(columns={\"Tumor Volume (mm3)\": \"Tumor_Volume\",\n",
    "                                       \"Weight (g)\": \"Weight\"})"
   ]
  },
  {
   "cell_type": "markdown",
   "metadata": {},
   "source": [
    "## Summary statistics"
   ]
  },
  {
   "cell_type": "code",
   "execution_count": 2,
   "metadata": {},
   "outputs": [
    {
     "data": {
      "text/html": [
       "<div>\n",
       "<style scoped>\n",
       "    .dataframe tbody tr th:only-of-type {\n",
       "        vertical-align: middle;\n",
       "    }\n",
       "\n",
       "    .dataframe tbody tr th {\n",
       "        vertical-align: top;\n",
       "    }\n",
       "\n",
       "    .dataframe thead th {\n",
       "        text-align: right;\n",
       "    }\n",
       "</style>\n",
       "<table border=\"1\" class=\"dataframe\">\n",
       "  <thead>\n",
       "    <tr style=\"text-align: right;\">\n",
       "      <th></th>\n",
       "      <th>Tumor Volume Mean</th>\n",
       "      <th>Tumor Volume Median</th>\n",
       "      <th>Tumor Volume VAR</th>\n",
       "      <th>Tumor Volume STD</th>\n",
       "      <th>Tumor Volume SEM</th>\n",
       "    </tr>\n",
       "    <tr>\n",
       "      <th>Drug Regimen</th>\n",
       "      <th></th>\n",
       "      <th></th>\n",
       "      <th></th>\n",
       "      <th></th>\n",
       "      <th></th>\n",
       "    </tr>\n",
       "  </thead>\n",
       "  <tbody>\n",
       "    <tr>\n",
       "      <th>Capomulin</th>\n",
       "      <td>40.68</td>\n",
       "      <td>41.56</td>\n",
       "      <td>24.95</td>\n",
       "      <td>4.99</td>\n",
       "      <td>0.33</td>\n",
       "    </tr>\n",
       "    <tr>\n",
       "      <th>Ceftamin</th>\n",
       "      <td>52.59</td>\n",
       "      <td>51.78</td>\n",
       "      <td>39.29</td>\n",
       "      <td>6.27</td>\n",
       "      <td>0.47</td>\n",
       "    </tr>\n",
       "    <tr>\n",
       "      <th>Infubinol</th>\n",
       "      <td>52.88</td>\n",
       "      <td>51.82</td>\n",
       "      <td>43.13</td>\n",
       "      <td>6.57</td>\n",
       "      <td>0.49</td>\n",
       "    </tr>\n",
       "    <tr>\n",
       "      <th>Ketapril</th>\n",
       "      <td>55.24</td>\n",
       "      <td>53.70</td>\n",
       "      <td>68.55</td>\n",
       "      <td>8.28</td>\n",
       "      <td>0.60</td>\n",
       "    </tr>\n",
       "    <tr>\n",
       "      <th>Naftisol</th>\n",
       "      <td>54.33</td>\n",
       "      <td>52.51</td>\n",
       "      <td>66.17</td>\n",
       "      <td>8.13</td>\n",
       "      <td>0.60</td>\n",
       "    </tr>\n",
       "    <tr>\n",
       "      <th>Placebo</th>\n",
       "      <td>54.03</td>\n",
       "      <td>52.29</td>\n",
       "      <td>61.17</td>\n",
       "      <td>7.82</td>\n",
       "      <td>0.58</td>\n",
       "    </tr>\n",
       "    <tr>\n",
       "      <th>Propriva</th>\n",
       "      <td>52.32</td>\n",
       "      <td>50.85</td>\n",
       "      <td>42.35</td>\n",
       "      <td>6.51</td>\n",
       "      <td>0.51</td>\n",
       "    </tr>\n",
       "    <tr>\n",
       "      <th>Ramicane</th>\n",
       "      <td>40.22</td>\n",
       "      <td>40.67</td>\n",
       "      <td>23.49</td>\n",
       "      <td>4.85</td>\n",
       "      <td>0.32</td>\n",
       "    </tr>\n",
       "    <tr>\n",
       "      <th>Stelasyn</th>\n",
       "      <td>54.23</td>\n",
       "      <td>52.43</td>\n",
       "      <td>59.45</td>\n",
       "      <td>7.71</td>\n",
       "      <td>0.57</td>\n",
       "    </tr>\n",
       "    <tr>\n",
       "      <th>Zoniferol</th>\n",
       "      <td>53.24</td>\n",
       "      <td>51.82</td>\n",
       "      <td>48.53</td>\n",
       "      <td>6.97</td>\n",
       "      <td>0.52</td>\n",
       "    </tr>\n",
       "  </tbody>\n",
       "</table>\n",
       "</div>"
      ],
      "text/plain": [
       "              Tumor Volume Mean  Tumor Volume Median  Tumor Volume VAR  \\\n",
       "Drug Regimen                                                             \n",
       "Capomulin                 40.68                41.56             24.95   \n",
       "Ceftamin                  52.59                51.78             39.29   \n",
       "Infubinol                 52.88                51.82             43.13   \n",
       "Ketapril                  55.24                53.70             68.55   \n",
       "Naftisol                  54.33                52.51             66.17   \n",
       "Placebo                   54.03                52.29             61.17   \n",
       "Propriva                  52.32                50.85             42.35   \n",
       "Ramicane                  40.22                40.67             23.49   \n",
       "Stelasyn                  54.23                52.43             59.45   \n",
       "Zoniferol                 53.24                51.82             48.53   \n",
       "\n",
       "              Tumor Volume STD  Tumor Volume SEM  \n",
       "Drug Regimen                                      \n",
       "Capomulin                 4.99              0.33  \n",
       "Ceftamin                  6.27              0.47  \n",
       "Infubinol                 6.57              0.49  \n",
       "Ketapril                  8.28              0.60  \n",
       "Naftisol                  8.13              0.60  \n",
       "Placebo                   7.82              0.58  \n",
       "Propriva                  6.51              0.51  \n",
       "Ramicane                  4.85              0.32  \n",
       "Stelasyn                  7.71              0.57  \n",
       "Zoniferol                 6.97              0.52  "
      ]
     },
     "execution_count": 2,
     "metadata": {},
     "output_type": "execute_result"
    }
   ],
   "source": [
    "# Generate a summary statistics table of mean, median, variance, standard deviation, and SEM of the tumor volume for each regimen\n",
    "# Create a GroupBy object based on drug regimen\n",
    "drug_grouped = study_data.groupby(\"Drug Regimen\")\n",
    "\n",
    "#Calculate Tumor Volume mean\n",
    "drug_tumor_mean = round((drug_grouped[\"Tumor_Volume\"]).mean(),2)\n",
    "\n",
    "#Calculate Tumor Volume median\n",
    "drug_tumor_median = round((drug_grouped[\"Tumor_Volume\"]).median(),2)\n",
    "\n",
    "#Calculate Tumor Volume variance\n",
    "drug_tumor_var = round((drug_grouped[\"Tumor_Volume\"]).var(),2)\n",
    "\n",
    "#Calculate Tumor Volume standard deviation\n",
    "drug_tumor_std = round((drug_grouped[\"Tumor_Volume\"]).std(),2)\n",
    "\n",
    "#Calculate Tumor Volume SEM\n",
    "drug_tumor_sem = round((drug_grouped[\"Tumor_Volume\"]).sem(),2)\n",
    "\n",
    "# Creating a new DataFrame by drug regimen\n",
    "drug_grouped_table = pd.DataFrame({\"Tumor Volume Mean\": drug_tumor_mean,\n",
    "                                   \"Tumor Volume Median\": drug_tumor_median,\n",
    "                                   \"Tumor Volume VAR\": drug_tumor_var,\n",
    "                                   \"Tumor Volume STD\": drug_tumor_std,\n",
    "                                  \"Tumor Volume SEM\": drug_tumor_sem})\n",
    "drug_grouped_table"
   ]
  },
  {
   "cell_type": "markdown",
   "metadata": {},
   "source": [
    "## Bar plots"
   ]
  },
  {
   "cell_type": "code",
   "execution_count": 3,
   "metadata": {},
   "outputs": [
    {
     "data": {
      "image/png": "[encoded data removed]",
      "text/plain": [
       "<Figure size 432x288 with 1 Axes>"
      ]
     },
     "metadata": {
      "needs_background": "light"
     },
     "output_type": "display_data"
    }
   ],
   "source": [
    "# Generate a bar plot showing number of data points for each treatment regimen using pyplot\n",
    "#x-axis will be Drug Regimen and y-axis will be drug regimen count\n",
    "drug_regimen = study_data['Drug Regimen'].unique()\n",
    "\n",
    "drug_regimen_count = drug_grouped['Mouse ID'].count()\n",
    "\n",
    "drug_regimen_df = pd.DataFrame({\"Count of Drug Regimen\":drug_regimen_count})\n",
    "\n",
    "#Bar chart using matplotlib\n",
    "plt.bar(drug_regimen, drug_regimen_count, color=\"xkcd:blue\", alpha=0.5, align=\"center\", width=0.8)\n",
    "tick_locations = [value for value in drug_regimen]\n",
    "plt.xlim(-0.75, len(drug_regimen)-0.25)\n",
    "\n",
    "#labels and title on bar chart\n",
    "plt.title(\"Number of Each Drug Treatment Regimen\")\n",
    "plt.xlabel(\"Drug Regimen\")\n",
    "plt.ylabel(\"Number of Times Drug Regimen Used\")\n",
    "plt.xticks(rotation=45)\n",
    "plt.show()"
   ]
  },
  {
   "cell_type": "code",
   "execution_count": 4,
   "metadata": {},
   "outputs": [
    {
     "data": {
      "image/png": "[encoded data removed]",
      "text/plain": [
       "<Figure size 432x288 with 1 Axes>"
      ]
     },
     "metadata": {
      "needs_background": "light"
     },
     "output_type": "display_data"
    },
    {
     "data": {
      "text/plain": [
       "<Figure size 432x288 with 0 Axes>"
      ]
     },
     "metadata": {},
     "output_type": "display_data"
    }
   ],
   "source": [
    "# Generate a bar plot showing number of data points for each treatment regimen using pandas\n",
    "# Set the index to be \"Drug Regimen\" so they will be used as labels\n",
    "# Use DataFrame.plot() in order to create a bar chart of the data\n",
    "drug_regimen_df.plot(kind=\"bar\", color=\"xkcd:blue\", legend=False, width=0.8)\n",
    "plt.xlim(-0.75, len(drug_regimen)-0.25)\n",
    "\n",
    "# Set a title for the chart\n",
    "plt.title(\"Number of Each Drug Treatment Regimen\")\n",
    "plt.xlabel(\"Drug Regimen\")\n",
    "plt.ylabel(\"Number of Times Drug Regimen Used\")\n",
    "plt.xticks(rotation=45)\n",
    "\n",
    "plt.show()\n",
    "plt.tight_layout()"
   ]
  },
  {
   "cell_type": "markdown",
   "metadata": {},
   "source": [
    "## Pie plots"
   ]
  },
  {
   "cell_type": "code",
   "execution_count": 5,
   "metadata": {},
   "outputs": [
    {
     "data": {
      "image/png": "[encoded data removed]",
      "text/plain": [
       "<Figure size 432x288 with 1 Axes>"
      ]
     },
     "metadata": {},
     "output_type": "display_data"
    }
   ],
   "source": [
    "# Generate a pie plot showing the distribution of female versus male mice using pyplot\n",
    "# Filter the data so that only female mice are in a DataFrame, then do a unique count of Mouse ID\n",
    "female_mice_df = study_data.loc[study_data[\"Sex\"] == \"Female\", :]\n",
    "\n",
    "# Filter the data so that only male mice are in a DataFrame, then do a unique count of Mouse ID\n",
    "male_mice_df = study_data.loc[study_data[\"Sex\"] == \"Male\", :]\n",
    "\n",
    "#Labels for each category of pie chart\n",
    "labels = [\"Female\", \"Male\"]\n",
    "\n",
    "sizes = [female_mice_df[\"Mouse ID\"].nunique(),male_mice_df[\"Mouse ID\"].nunique()]\n",
    "\n",
    "colors = [\"orange\", \"blue\"]\n",
    "\n",
    "# Creates the pie chart based upon the values above\n",
    "plt.pie(sizes, labels=labels, colors=colors,\n",
    "        autopct=\"%1.1f%%\", shadow=True, startangle=90)\n",
    "plt.title(\"Sex of Mice in Study\")\n",
    "plt.axis(\"equal\")\n",
    "plt.show()"
   ]
  },
  {
   "cell_type": "code",
   "execution_count": 6,
   "metadata": {},
   "outputs": [
    {
     "data": {
      "image/png": "[encoded data removed]",
      "text/plain": [
       "<Figure size 432x288 with 1 Axes>"
      ]
     },
     "metadata": {},
     "output_type": "display_data"
    },
    {
     "data": {
      "text/plain": [
       "<Figure size 432x288 with 0 Axes>"
      ]
     },
     "metadata": {},
     "output_type": "display_data"
    }
   ],
   "source": [
    "# Generate a pie plot showing the distribution of female versus male mice using pandas\n",
    "#Create a dataframe of mice sex\n",
    "mice_sex_df = {\"Sex\": [\"Female\", \"Male\"], \"Count\": [female_mice_df[\"Mouse ID\"].nunique(), male_mice_df[\"Mouse ID\"].nunique()]}\n",
    "mice_sex_df = pd.DataFrame(mice_sex_df)\n",
    "mice_sex_df = mice_sex_df.set_index('Sex')\n",
    "\n",
    "# Use DataFrame.plot() in order to create a pie chart of the data\n",
    "gender_list = mice_sex_df.keys()\n",
    "mice_sex_df.plot(kind=\"pie\", y=gender_list, colors = [\"orange\", \"blue\"], autopct=\"%1.1f%%\", shadow=True, startangle=90)\n",
    "\n",
    "# Format the chart\n",
    "plt.title(\"Sex of Mice in Study\")\n",
    "plt.axis(\"equal\")\n",
    "plt.show()\n",
    "plt.tight_layout()"
   ]
  },
  {
   "cell_type": "markdown",
   "metadata": {},
   "source": [
    "## Quartiles, outliers and boxplots"
   ]
  },
  {
   "cell_type": "code",
   "execution_count": 7,
   "metadata": {},
   "outputs": [
    {
     "name": "stdout",
     "output_type": "stream",
     "text": [
      "The lower quartile of Capomulin is: 32.38\n",
      "The upper quartile of Capomulin is: 40.16\n",
      "The interquartile range of Capomulin is: 7.78\n",
      "The the median of Capomulin is: 38.13 \n",
      "Values below 20.71 could be outliers.\n",
      "Values above 51.83 could be outliers.\n"
     ]
    }
   ],
   "source": [
    "# Calculate the final tumor volume of each mouse across four of the most promising treatment regimens. \n",
    "#Capomulin\n",
    "trmt_capomulin = [\"Capomulin\"]\n",
    "study_data['Drug Regimen'].isin(trmt_capomulin)\n",
    "trmt_capo_df= study_data[study_data['Drug Regimen'].isin(trmt_capomulin)]\n",
    "                          \n",
    "#Some mice did not have the same amount of measurements as others, use max timepoint & associated tumor volume\n",
    "capo_tumor_volume = trmt_capo_df.loc[trmt_capo_df.groupby([\"Mouse ID\"])[\"Timepoint\"].idxmax()]\n",
    "\n",
    "# Calculate the IQR and quantitatively determine if there are any potential outliers. \n",
    "quartiles = capo_tumor_volume['Tumor_Volume'].quantile([.25,.5,.75])\n",
    "lowerq = round(quartiles[0.25],2)\n",
    "upperq = round(quartiles[0.75],2)\n",
    "iqr = round(upperq-lowerq,2)\n",
    "\n",
    "print(f\"The lower quartile of Capomulin is: {lowerq}\")\n",
    "print(f\"The upper quartile of Capomulin is: {upperq}\")\n",
    "print(f\"The interquartile range of Capomulin is: {iqr}\")\n",
    "print(f\"The the median of Capomulin is: {round(quartiles[0.5],2)} \")\n",
    "\n",
    "lower_bound = round(lowerq - (1.5*iqr),2)\n",
    "upper_bound = round(upperq + (1.5*iqr),2)\n",
    "print(f\"Values below {lower_bound} could be outliers.\")\n",
    "print(f\"Values above {upper_bound} could be outliers.\")"
   ]
  },
  {
   "cell_type": "code",
   "execution_count": 8,
   "metadata": {},
   "outputs": [
    {
     "name": "stdout",
     "output_type": "stream",
     "text": [
      "The lower quartile of Ramicane is: 31.56\n",
      "The upper quartile of Ramicane is: 40.66\n",
      "The interquartile range of Ramicane is: 9.1\n",
      "The the median of Ramicane is: 36.56 \n",
      "Values below 17.91 could be outliers.\n",
      "Values above 54.31 could be outliers.\n"
     ]
    }
   ],
   "source": [
    "# Calculate the final tumor volume of each mouse across four of the most promising treatment regimens. \n",
    "#Ramicane\n",
    "trmt_ramicane = [\"Ramicane\"]\n",
    "study_data['Drug Regimen'].isin(trmt_ramicane)\n",
    "trmt_rami_df= study_data[study_data['Drug Regimen'].isin(trmt_ramicane)]\n",
    "                          \n",
    "#Some mice did not have the same amount of measurements as others, use max timepoint & associated tumor volume\n",
    "rami_tumor_volume = trmt_rami_df.loc[trmt_rami_df.groupby([\"Mouse ID\"])[\"Timepoint\"].idxmax()]\n",
    "\n",
    "# Calculate the IQR and quantitatively determine if there are any potential outliers. \n",
    "quartiles = rami_tumor_volume['Tumor_Volume'].quantile([.25,.5,.75])\n",
    "lowerq = round(quartiles[0.25],2)\n",
    "upperq = round(quartiles[0.75],2)\n",
    "iqr = round(upperq-lowerq,2)\n",
    "\n",
    "print(f\"The lower quartile of Ramicane is: {lowerq}\")\n",
    "print(f\"The upper quartile of Ramicane is: {upperq}\")\n",
    "print(f\"The interquartile range of Ramicane is: {iqr}\")\n",
    "print(f\"The the median of Ramicane is: {round(quartiles[0.5],2)} \")\n",
    "\n",
    "lower_bound = round(lowerq - (1.5*iqr),2)\n",
    "upper_bound = round(upperq + (1.5*iqr),2)\n",
    "print(f\"Values below {lower_bound} could be outliers.\")\n",
    "print(f\"Values above {upper_bound} could be outliers.\")"
   ]
  },
  {
   "cell_type": "code",
   "execution_count": 9,
   "metadata": {},
   "outputs": [
    {
     "name": "stdout",
     "output_type": "stream",
     "text": [
      "The lower quartile of Infubinol is: 54.05\n",
      "The upper quartile of Infubinol is: 65.53\n",
      "The interquartile range of Infubinol is: 11.48\n",
      "The the median of Infubinol is: 60.17 \n",
      "Values below 36.83 could be outliers.\n",
      "Values above 82.75 could be outliers.\n"
     ]
    }
   ],
   "source": [
    "# Calculate the final tumor volume of each mouse across four of the most promising treatment regimens. \n",
    "#Infubinol\n",
    "trmt_infubinol = [\"Infubinol\"]\n",
    "study_data['Drug Regimen'].isin(trmt_infubinol)\n",
    "trmt_infu_df= study_data[study_data['Drug Regimen'].isin(trmt_infubinol)]\n",
    "                          \n",
    "#Some mice did not have the same amount of measurements as others, use max timepoint & associated tumor volume\n",
    "infu_tumor_volume = trmt_infu_df.loc[trmt_infu_df.groupby([\"Mouse ID\"])[\"Timepoint\"].idxmax()]\n",
    "\n",
    "# Calculate the IQR and quantitatively determine if there are any potential outliers. \n",
    "quartiles = infu_tumor_volume['Tumor_Volume'].quantile([.25,.5,.75])\n",
    "lowerq = round(quartiles[0.25],2)\n",
    "upperq = round(quartiles[0.75],2)\n",
    "iqr = round(upperq-lowerq,2)\n",
    "\n",
    "print(f\"The lower quartile of Infubinol is: {lowerq}\")\n",
    "print(f\"The upper quartile of Infubinol is: {upperq}\")\n",
    "print(f\"The interquartile range of Infubinol is: {iqr}\")\n",
    "print(f\"The the median of Infubinol is: {round(quartiles[0.5],2)} \")\n",
    "\n",
    "lower_bound = round(lowerq - (1.5*iqr),2)\n",
    "upper_bound = round(upperq + (1.5*iqr),2)\n",
    "print(f\"Values below {lower_bound} could be outliers.\")\n",
    "print(f\"Values above {upper_bound} could be outliers.\")"
   ]
  },
  {
   "cell_type": "code",
   "execution_count": 10,
   "metadata": {},
   "outputs": [
    {
     "name": "stdout",
     "output_type": "stream",
     "text": [
      "The lower quartile of Ceftamin is: 48.72\n",
      "The upper quartile of Ceftamin is: 64.3\n",
      "The interquartile range of Ceftamin is: 15.58\n",
      "The the median of Ceftamin is: 59.85 \n",
      "Values below 25.35 could be outliers.\n",
      "Values above 87.67 could be outliers.\n"
     ]
    }
   ],
   "source": [
    "# Calculate the final tumor volume of each mouse across four of the most promising treatment regimens. \n",
    "#Ceftamin\n",
    "trmt_ceftamin = [\"Ceftamin\"]\n",
    "study_data['Drug Regimen'].isin(trmt_ceftamin)\n",
    "trmt_ceft_df= study_data[study_data['Drug Regimen'].isin(trmt_ceftamin)]\n",
    "                          \n",
    "#Some mice did not have the same amount of measurements as others, use max timepoint & associated tumor volume\n",
    "ceft_tumor_volume = trmt_ceft_df.loc[trmt_ceft_df.groupby([\"Mouse ID\"])[\"Timepoint\"].idxmax()]\n",
    "\n",
    "# Calculate the IQR and quantitatively determine if there are any potential outliers. \n",
    "quartiles = ceft_tumor_volume['Tumor_Volume'].quantile([.25,.5,.75])\n",
    "lowerq = round(quartiles[0.25],2)\n",
    "upperq = round(quartiles[0.75],2)\n",
    "iqr = round(upperq-lowerq,2)\n",
    "\n",
    "print(f\"The lower quartile of Ceftamin is: {lowerq}\")\n",
    "print(f\"The upper quartile of Ceftamin is: {upperq}\")\n",
    "print(f\"The interquartile range of Ceftamin is: {iqr}\")\n",
    "print(f\"The the median of Ceftamin is: {round(quartiles[0.5],2)} \")\n",
    "\n",
    "lower_bound = round(lowerq - (1.5*iqr),2)\n",
    "upper_bound = round(upperq + (1.5*iqr),2)\n",
    "print(f\"Values below {lower_bound} could be outliers.\")\n",
    "print(f\"Values above {upper_bound} could be outliers.\")"
   ]
  },
  {
   "cell_type": "code",
   "execution_count": 11,
   "metadata": {},
   "outputs": [
    {
     "data": {
      "image/png": "[encoded data removed]",
      "text/plain": [
       "<Figure size 432x288 with 1 Axes>"
      ]
     },
     "metadata": {
      "needs_background": "light"
     },
     "output_type": "display_data"
    }
   ],
   "source": [
    "# Generate a box plot of the final tumor volume of each mouse across four regimens of interest\n",
    "#create dataframe with 4 drugs\n",
    "capo_volume = capo_tumor_volume['Tumor_Volume']\n",
    "rami_volume = rami_tumor_volume['Tumor_Volume']\n",
    "infu_volume = infu_tumor_volume['Tumor_Volume']\n",
    "ceft_volume = ceft_tumor_volume['Tumor_Volume']\n",
    "volumes = [capo_volume, rami_volume, infu_volume, ceft_volume]\n",
    "\n",
    "fig1, ax1 = plt.subplots()\n",
    "ax1.set_title('Tumor Volumes by Drug Regimen')\n",
    "ax1.set_ylabel('Tumor Volume (mm3)')\n",
    "ax1.boxplot(volumes)\n",
    "plt.xticks([1, 2, 3, 4], ['Capomulin', 'Ramicane', 'Infubinol','Ceftamin'])\n",
    "plt.show()"
   ]
  },
  {
   "cell_type": "markdown",
   "metadata": {},
   "source": [
    "## Line and scatter plots"
   ]
  },
  {
   "cell_type": "code",
   "execution_count": 12,
   "metadata": {},
   "outputs": [
    {
     "data": {
      "image/png": "[encoded data removed]",
      "text/plain": [
       "<Figure size 432x288 with 1 Axes>"
      ]
     },
     "metadata": {
      "needs_background": "light"
     },
     "output_type": "display_data"
    },
    {
     "data": {
      "text/plain": [
       "<Figure size 432x288 with 0 Axes>"
      ]
     },
     "metadata": {},
     "output_type": "display_data"
    }
   ],
   "source": [
    "# Generate a line plot of time point versus tumor volume for a mouse treated with Capomulin\n",
    "mouse_id = [\"b128\"]\n",
    "study_data['Mouse ID'].isin(mouse_id)\n",
    "one_mouse= study_data[study_data['Mouse ID'].isin(mouse_id)]\n",
    "\n",
    "#create new dataframe with only columns of interest\n",
    "one_mouse_df= one_mouse[['Timepoint','Tumor_Volume']]\n",
    "one_mouse_df = one_mouse_df.set_index('Timepoint')\n",
    "\n",
    "#line graph\n",
    "one_mouse_df['Tumor_Volume'].plot(kind=\"line\")\n",
    "\n",
    "# Set a title for the chart\n",
    "plt.title(\"Tumor Volume over time for Study Mouse: b128\")\n",
    "plt.xlabel(\"Timepoint\")\n",
    "plt.ylabel(\"Tumor Volume (mm3)\")\n",
    "plt.xticks(rotation=0)\n",
    "\n",
    "plt.show()\n",
    "plt.tight_layout()\n"
   ]
  },
  {
   "cell_type": "code",
   "execution_count": 13,
   "metadata": {},
   "outputs": [
    {
     "name": "stdout",
     "output_type": "stream",
     "text": [
      "The r-squared is: 0.8418558779004007\n"
     ]
    },
    {
     "data": {
      "image/png": "[encoded data removed]",
      "text/plain": [
       "<Figure size 432x288 with 1 Axes>"
      ]
     },
     "metadata": {
      "needs_background": "light"
     },
     "output_type": "display_data"
    }
   ],
   "source": [
    "# Generate a scatter plot of mouse weight versus average tumor volume for the Capomulin regimen\n",
    "mouse_capo_grouped = trmt_capo_df.groupby('Mouse ID')\n",
    "\n",
    "#Calculate Tumor Volume mean\n",
    "capo_tumor_mean = round((mouse_capo_grouped[\"Tumor_Volume\"]).mean(),2)\n",
    "\n",
    "#Calculate Tumor Volume mean\n",
    "capo_weight_mean = (mouse_capo_grouped[\"Weight\"]).mean()\n",
    "\n",
    "# Creating a new DataFrame for scatter plt\n",
    "capo_scatter_table = pd.DataFrame({\"Average Weight\": capo_weight_mean,\"Average Tumor Volume\": capo_tumor_mean})\n",
    "\n",
    "# Calculate the correlation coefficient and linear regression model for mouse weight and average tumor volume for the Capomulin regimen\n",
    "# Create scatter plot\n",
    "x_values = capo_scatter_table['Average Weight']\n",
    "y_values = capo_scatter_table['Average Tumor Volume']\n",
    "plt.scatter(x_values,y_values)\n",
    "(slope, intercept, rvalue, pvalue, stderr) = linregress(x_values, y_values)\n",
    "regress_values = x_values * slope + intercept\n",
    "line_eq = \"y = \" + str(round(slope,2)) + \"x + \" + str(round(intercept,2))\n",
    "plt.plot(x_values,regress_values,\"r-\")\n",
    "plt.annotate(line_eq,(20,36),fontsize=15,color=\"red\")\n",
    "plt.xlabel('Average Weight (g)')\n",
    "plt.ylabel('Average Tumor Volume (mm3)')\n",
    "plt.title('Mouse Weight vs Tumor Volume for Capomulin')\n",
    "print(f\"The r-squared is: {rvalue}\")\n",
    "\n",
    "plt.show()\n",
    "\n"
   ]
  },
  {
   "cell_type": "code",
   "execution_count": 14,
   "metadata": {},
   "outputs": [
    {
     "name": "stdout",
     "output_type": "stream",
     "text": [
      "1. Out of the four promising drugs analyzed it appears that two drugs, Capomulin and Ramicane, have a lower median Tumor Volume which could indicate they out perform Infubinol and Ceftamine.\n",
      "\n",
      "2. Mouse b128's tumor volume started getting smaller after timepoint 25.  It would be interesting to investigate other mice treated with Capomulin to see if the same pattern occurred or if it was an anomaly.\n",
      "\n",
      "3. Average weight and average tumor volume in the treatment Capomulin are strongly correlated.\n"
     ]
    }
   ],
   "source": [
    "#Observations:\n",
    "print(\"1. Out of the four promising drugs analyzed it appears that two drugs, Capomulin and Ramicane, have a lower median Tumor Volume which could indicate they out perform Infubinol and Ceftamine.\")\n",
    "print(\"\")\n",
    "print(\"2. Mouse b128's tumor volume started getting smaller after timepoint 25.  It would be interesting to investigate other mice treated with Capomulin to see if the same pattern occurred or if it was an anomaly.\")\n",
    "print(\"\")\n",
    "print(\"3. Average weight and average tumor volume in the treatment Capomulin are strongly correlated.\")"
   ]
  }
 ],
 "metadata": {
  "anaconda-cloud": {},
  "kernelspec": {
   "display_name": "Python 3",
   "language": "python",
   "name": "python3"
  },
  "language_info": {
   "codemirror_mode": {
    "name": "ipython",
    "version": 3
   },
   "file_extension": ".py",
   "mimetype": "text/x-python",
   "name": "python",
   "nbconvert_exporter": "python",
   "pygments_lexer": "ipython3",
   "version": "3.6.9"
  }
 },
 "nbformat": 4,
 "nbformat_minor": 2
}
